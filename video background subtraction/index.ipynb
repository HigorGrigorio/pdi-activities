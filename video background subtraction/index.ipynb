{
 "cells": [
  {
   "cell_type": "markdown",
   "source": [
    "Higor Grigorio dos Santos - BI3007511\n",
    "<br/>\n",
    "### EE368/CS232 Digital Image Processing\n",
    "\n",
    "<center>\n",
    "\n",
    "# Video background subtraction\n",
    "\n",
    "</center>"
   ],
   "metadata": {
    "collapsed": false
   }
  },
  {
   "cell_type": "code",
   "execution_count": 142,
   "outputs": [],
   "source": [
    "import cv2\n",
    "import numpy as np\n",
    "\n",
    "VIDEO = 'surveillance.mpg'"
   ],
   "metadata": {
    "collapsed": false,
    "ExecuteTime": {
     "end_time": "2023-09-12T18:54:21.878105300Z",
     "start_time": "2023-09-12T18:54:21.862436400Z"
    }
   }
  },
  {
   "cell_type": "code",
   "execution_count": 143,
   "outputs": [],
   "source": [
    "# % Read video\n",
    "# vrObj = VideoReader('surveillance.mpg');\n",
    "# vwObj = VideoWriter('Background_Subtraction', 'Motion JPEG AVI');\n",
    "# vwObj.FrameRate = 30;\n",
    "# vwObj.Quality = 95;\n",
    "# open(vwObj);\n",
    "# nFrames = vrObj.NumberOfFrames;\n",
    "\n",
    "vrObj = cv2.VideoCapture(VIDEO)\n",
    "nFrames = int(vrObj.get(cv2.CAP_PROP_FRAME_COUNT))"
   ],
   "metadata": {
    "collapsed": false,
    "ExecuteTime": {
     "end_time": "2023-09-12T18:54:21.940585800Z",
     "start_time": "2023-09-12T18:54:21.862436400Z"
    }
   }
  },
  {
   "cell_type": "code",
   "execution_count": 144,
   "outputs": [
    {
     "data": {
      "text/plain": "True"
     },
     "execution_count": 144,
     "metadata": {},
     "output_type": "execute_result"
    }
   ],
   "source": [
    "# Read video\n",
    "frame_width = int(vrObj.get(3))\n",
    "frame_height = int(vrObj.get(4))\n",
    "fps = vrObj.get(5)\n",
    "\n",
    "vwObj = cv2.VideoWriter('Background_Subtraction.avi', cv2.VideoWriter_fourcc(*\"MJPG\"), 30, (frame_width, frame_height), 0)\n",
    "\n",
    "# Perform background accumulation and subtraction\n",
    "alpha = 0.95\n",
    "theta = 0.1\n",
    "_, background = vrObj.read()\n",
    "background = cv2.cvtColor(background, cv2.COLOR_BGR2GRAY).astype(np.float64) / 255.0\n",
    "while True:\n",
    "    ret, frame = vrObj.read()\n",
    "    if not ret:\n",
    "        break\n",
    "\n",
    "    currImg = cv2.cvtColor(frame, cv2.COLOR_BGR2GRAY).astype(np.float64) / 255.0\n",
    "    background = alpha * background + (1 - alpha) * currImg\n",
    "    diffImg = np.abs(currImg - background)\n",
    "    _, threshImg = cv2.threshold(diffImg, theta, 1, cv2.THRESH_BINARY)\n",
    "    threshImg = threshImg.astype(np.uint8)\n",
    "\n",
    "    cv2.imshow('New frame', currImg)\n",
    "    cv2.imshow('Background frame', background)\n",
    "    cv2.imshow('Difference image', diffImg)\n",
    "    cv2.imshow('Thresholded difference image', threshImg.astype(np.uint8))\n",
    "\n",
    "    vwObj.write((threshImg * 255).astype(np.uint8))\n",
    "\n",
    "    if cv2.waitKey(1) & 0xFF == ord('q'):\n",
    "        break\n",
    "\n",
    "vwObj.release()\n",
    "vrObj.release()\n",
    "cv2.destroyAllWindows()\n",
    "\n",
    "# Save images\n",
    "cv2.imwrite('Background_Subtraction_curr.png', (currImg * 255).astype(np.uint8))\n",
    "cv2.imwrite('Background_Subtraction_background.png', (background * 255).astype(np.uint8))\n",
    "cv2.imwrite('Background_Subtraction_thresh.png', (threshImg * 255).astype(np.uint8))\n",
    "\n"
   ],
   "metadata": {
    "collapsed": false,
    "ExecuteTime": {
     "end_time": "2023-09-12T18:54:23.899870200Z",
     "start_time": "2023-09-12T18:54:21.893786300Z"
    }
   }
  },
  {
   "cell_type": "code",
   "execution_count": 144,
   "outputs": [],
   "source": [],
   "metadata": {
    "collapsed": false,
    "ExecuteTime": {
     "end_time": "2023-09-12T18:54:23.906381200Z",
     "start_time": "2023-09-12T18:54:23.905518800Z"
    }
   }
  }
 ],
 "metadata": {
  "kernelspec": {
   "display_name": "Python 3",
   "language": "python",
   "name": "python3"
  },
  "language_info": {
   "codemirror_mode": {
    "name": "ipython",
    "version": 2
   },
   "file_extension": ".py",
   "mimetype": "text/x-python",
   "name": "python",
   "nbconvert_exporter": "python",
   "pygments_lexer": "ipython2",
   "version": "2.7.6"
  }
 },
 "nbformat": 4,
 "nbformat_minor": 0
}
