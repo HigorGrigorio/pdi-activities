{
 "cells": [
  {
   "cell_type": "markdown",
   "source": [
    "Higor Grigorio dos Santos\n",
    "<br>\n",
    "\n",
    "<center>\n",
    "\n",
    "# Atividades - Segmentação Parte 1\n",
    "\n",
    "<center>"
   ],
   "metadata": {
    "collapsed": false
   }
  },
  {
   "cell_type": "markdown",
   "source": [
    "# 1.\n",
    "Implementar limiarização, definir"
   ],
   "metadata": {
    "collapsed": false
   }
  },
  {
   "cell_type": "code",
   "execution_count": 1,
   "outputs": [],
   "source": [
    "import os\n",
    "\n",
    "import cv2\n",
    "import numpy as np"
   ],
   "metadata": {
    "collapsed": false,
    "ExecuteTime": {
     "end_time": "2023-10-16T17:43:20.726672400Z",
     "start_time": "2023-10-16T17:43:20.536956800Z"
    }
   }
  },
  {
   "cell_type": "markdown",
   "source": [
    "A limiarização é uma técnica de segmentação de imagens que consiste em separar os píxeis de uma imagem em dois grupos: pixels que possuem intensidade maior que um limiar pré-definido e píxeis que possuem intensidade menor que o limiar."
   ],
   "metadata": {
    "collapsed": false
   }
  },
  {
   "cell_type": "code",
   "execution_count": 2,
   "outputs": [],
   "source": [
    "def thresholding(img, limiar):\n",
    "    img_out = np.zeros(img.shape)\n",
    "    for i in range(img.shape[0]):\n",
    "        for j in range(img.shape[1]):\n",
    "            if img[i, j] > limiar:\n",
    "                img_out[i, j] = 255\n",
    "            else:\n",
    "                img_out[i, j] = 0\n",
    "    return img_out\n",
    "\n"
   ],
   "metadata": {
    "collapsed": false,
    "ExecuteTime": {
     "end_time": "2023-10-16T17:43:20.733251900Z",
     "start_time": "2023-10-16T17:43:20.726672400Z"
    }
   }
  },
  {
   "cell_type": "markdown",
   "source": [
    "# 2.\n",
    "Implementar detector de bordas Canny."
   ],
   "metadata": {
    "collapsed": false
   }
  },
  {
   "cell_type": "markdown",
   "source": [
    "O detector de bordas Canny é um dos mais utilizados na literatura. Ele é composto por 4 etapas:\n",
    "\n",
    "1. Suavização da imagem com um filtro gaussiano\n",
    "2. Cálculo do gradiente da imagem\n",
    "3. Supressão de não-máximos\n",
    "4. Limiarização com histerese\n",
    "\n",
    "Seguida da detecção das bordas."
   ],
   "metadata": {
    "collapsed": false
   }
  },
  {
   "cell_type": "code",
   "execution_count": 3,
   "outputs": [],
   "source": [
    "def canny(img, sigma=0.33, t1=0.1, t2=0.2):\n",
    "    # 1. Suavização da imagem com um filtro gaussiano\n",
    "    img = gaussian_blur(img, 5)\n",
    "    # 2. Cálculo do gradiente da imagem\n",
    "    img = cv2.Canny(img, int(t1 * 255), int(t2 * 255))\n",
    "    return img"
   ],
   "metadata": {
    "collapsed": false,
    "ExecuteTime": {
     "end_time": "2023-10-16T17:43:20.738386700Z",
     "start_time": "2023-10-16T17:43:20.737878400Z"
    }
   }
  },
  {
   "cell_type": "markdown",
   "source": [
    "## 2.1\n",
    "Aplicar o filtro de borramento (gaussiano) e verificar se o borramento melhora a detecção de bordas."
   ],
   "metadata": {
    "collapsed": false
   }
  },
  {
   "cell_type": "code",
   "execution_count": null,
   "outputs": [],
   "source": [
    "def gaussian_blur(img, kernel_size=5):\n",
    "    return cv2.GaussianBlur(img, (kernel_size, kernel_size), 0)"
   ],
   "metadata": {
    "collapsed": false
   }
  },
  {
   "cell_type": "markdown",
   "source": [
    "# 2.2\n",
    "Mudar os parâmetros T1 e T2 e avaliar a qualidade das bordas detectadas."
   ],
   "metadata": {
    "collapsed": false
   }
  },
  {
   "cell_type": "code",
   "execution_count": null,
   "outputs": [],
   "source": [
    "params = [(0.1, 0.2), (0.2, 0.3), (0.3, 0.4), (0.4, 0.5), (0.5, 0.6)]\n",
    "images_names = os.listdir('images')\n",
    "images = [cv2.imread('images/' + name, 0) for name in images_names]\n",
    "images = [canny(img, t1=t1, t2=t2) for img in images for t1, t2 in params]\n",
    "\n",
    "for i in range(len(images)):\n"
   ],
   "metadata": {
    "collapsed": false
   }
  },
  {
   "cell_type": "markdown",
   "source": [],
   "metadata": {
    "collapsed": false
   }
  }
 ],
 "metadata": {
  "kernelspec": {
   "display_name": "Python 3",
   "language": "python",
   "name": "python3"
  },
  "language_info": {
   "codemirror_mode": {
    "name": "ipython",
    "version": 2
   },
   "file_extension": ".py",
   "mimetype": "text/x-python",
   "name": "python",
   "nbconvert_exporter": "python",
   "pygments_lexer": "ipython2",
   "version": "2.7.6"
  }
 },
 "nbformat": 4,
 "nbformat_minor": 0
}
